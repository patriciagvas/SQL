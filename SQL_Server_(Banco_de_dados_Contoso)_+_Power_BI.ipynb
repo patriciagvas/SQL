{
  "nbformat": 4,
  "nbformat_minor": 0,
  "metadata": {
    "colab": {
      "provenance": [],
      "authorship_tag": "ABX9TyOyfBQmXx/SKnlu1xg6cr5G"
    },
    "kernelspec": {
      "name": "python3",
      "display_name": "Python 3"
    },
    "language_info": {
      "name": "python"
    }
  },
  "cells": [
    {
      "cell_type": "markdown",
      "source": [
        "Os códigos SQL presentes neste arquivo foram desenvolvidos a fim de gerar tabelas contendo os dados desejados para criação de um relatório para a empresa fictícia Contoso usando o Power BI. As views criadas a partir das consultas foram importadas para o Power BI por meio do conector disponível no software.\n",
        "\n",
        "As tabelas do banco de dados Contoso, provido pela Microsoft, que contêm as informações de interesse para a análise são FactSales, DimStore, DimGeography, DimProductCategory, DimProductSubcategory e DimProduct, por possuírem informações de vendas, lojas e produtos, respectivamente. Visto que essas tabelas possuem dados que não são de interesse para a análise foram selecionadas apenas as colunas que contenham dados relevantes. Além disso, como as informações de localização geográfica das lojas, tipo de categoria e subcategoria dos produtos, se encontram separadas das tabelas DimStore e DimProduct, foi utilizado o comando LEFT JOIN para mesclar as tabelas e gerar uma nova contendo as colunas desejadas.\n",
        "\n",
        "**Tabela Fato:** FactSales;\n",
        "\n",
        "**Tabelas Dimensão:** DimStore, DimGeography, DimProductCategory, DimProductSubcategory e DimProduct.\n",
        "\n",
        "\n",
        "O relatório final criado no Power BI pode ser acessado neste link: https://app.powerbi.com/view?r=eyJrIjoiYjNhMzYwYWYtMmRkMC00YTc1LTljZTUtMGU3ZWNkNTJmYWZlIiwidCI6ImRkNmNiYmVlLTE5N2MtNDFhNC1iYTk2LWRmMzI3ZTg2NTA3NyJ9\n",
        "\n",
        "\n",
        "---"
      ],
      "metadata": {
        "id": "q08eKQu-bhfT"
      }
    },
    {
      "cell_type": "markdown",
      "source": [
        "**Tabela de Lojas**: criada por meio da junção entre colunas da tabela DimStore e DimGeography"
      ],
      "metadata": {
        "id": "3OdBDsLVe6zQ"
      }
    },
    {
      "cell_type": "code",
      "execution_count": null,
      "metadata": {
        "id": "CMEhTH1PbZ0c"
      },
      "outputs": [],
      "source": [
        "SELECT * FROM DimStore;\n",
        "SELECT * FROM DimGeography;\n",
        "\n",
        "SELECT\n",
        "\tsto.StoreKey,\n",
        "\tsto.StoreName,\n",
        "\tsto.StoreType,\n",
        "\tsto.Status,\n",
        "\tgeo.ContinentName AS Continent,\n",
        "\tgeo.RegionCountryName AS Country\n",
        "FROM DimStore sto\n",
        "LEFT JOIN DimGeography geo\n",
        "ON sto.GeographyKey = geo.GeographyKey;\n",
        "\n",
        "## Criação da View\n",
        "CREATE VIEW Lojas AS\n",
        "SELECT\n",
        "\tsto.StoreKey,\n",
        "\tsto.StoreName,\n",
        "\tsto.StoreType,\n",
        "\tsto.Status,\n",
        "\tgeo.ContinentName AS Continent,\n",
        "\tgeo.RegionCountryName AS Country\n",
        "FROM DimStore sto\n",
        "LEFT JOIN DimGeography geo\n",
        "ON sto.GeographyKey = geo.GeographyKey;"
      ]
    },
    {
      "cell_type": "markdown",
      "source": [
        "**Tabela de Produtos**: criada pela junção de colunas das tabelas DimProduct, DimProductCategory e DimProductSubcategory.\n"
      ],
      "metadata": {
        "id": "onu6vxSpfWpS"
      }
    },
    {
      "cell_type": "code",
      "source": [
        "SELECT * FROM DimProduct;\n",
        "SELECT * FROM DimProductSubcategory;\n",
        "SELECT * FROM DimProductCategory;\n",
        "\n",
        "SELECT\n",
        "\tpro.ProductKey,\n",
        "\tpro.ProductName,\n",
        "\tpro.BrandName,\n",
        "\tpro.UnitCost,\n",
        "\tpro.UnitPrice,\n",
        "\tsub.ProductSubcategoryName,\n",
        "\tcat.ProductCategoryName\n",
        "FROM DimProduct pro\n",
        "LEFT JOIN DimProductSubcategory sub\n",
        "ON pro.ProductSubcategoryKey = sub.ProductSubcategoryKey\n",
        "LEFT JOIN DimProductCategory cat\n",
        "ON sub.ProductCategoryKey = cat.ProductCategoryKey;\n",
        "\n",
        "# Criação da view\n",
        "\n",
        "CREATE VIEW vwProdutos AS\n",
        "SELECT\n",
        "\tpro.ProductKey,\n",
        "\tpro.ProductName,\n",
        "\tpro.BrandName,\n",
        "\tpro.UnitCost,\n",
        "\tpro.UnitPrice,\n",
        "\tsub.ProductSubcategoryName,\n",
        "\tcat.ProductCategoryName\n",
        "FROM DimProduct pro\n",
        "LEFT JOIN DimProductSubcategory sub\n",
        "ON pro.ProductSubcategoryKey = sub.ProductSubcategoryKey\n",
        "LEFT JOIN DimProductCategory cat\n",
        "ON sub.ProductCategoryKey = cat.ProductCategoryKey;"
      ],
      "metadata": {
        "id": "p2Qe1YZBfkSZ"
      },
      "execution_count": null,
      "outputs": []
    },
    {
      "cell_type": "markdown",
      "source": [
        "**Tabela de Vendas**: criada a partir da seleção de colunas da tabela FactSales."
      ],
      "metadata": {
        "id": "Bt6SryYEf7Gi"
      }
    },
    {
      "cell_type": "code",
      "source": [
        "SELECT * FROM FactSales;\n",
        "\n",
        "SELECT\n",
        "\tSalesKey,\n",
        "\tconvert(varchar(10), DateKey, 103) AS 'DateKey',\n",
        "\tStoreKey,\n",
        "\tProductKey,\n",
        "\tCurrencyKey,\n",
        "\tSalesQuantity,\n",
        "\tReturnQuantity,\n",
        "\tReturnAmount,\n",
        "\tDiscountAmount,\n",
        "\tTotalCost,\n",
        "\tSalesAmount\n",
        "FROM FactSales;\n",
        "\n",
        "# Criação da view\n",
        "\n",
        "CREATE VIEW vwVendas AS\n",
        "SELECT\n",
        "\tSalesKey,\n",
        "\tconvert(varchar(10), DateKey, 103) AS 'DateKey',\n",
        "\tStoreKey,\n",
        "\tProductKey,\n",
        "\tCurrencyKey,\n",
        "\tSalesQuantity,\n",
        "\tReturnQuantity,\n",
        "\tReturnAmount,\n",
        "\tDiscountAmount,\n",
        "\tTotalCost,\n",
        "\tSalesAmount\n",
        "FROM FactSales;"
      ],
      "metadata": {
        "id": "J-ffA-hGgA0q"
      },
      "execution_count": null,
      "outputs": []
    }
  ]
}