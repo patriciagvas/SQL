{
  "nbformat": 4,
  "nbformat_minor": 0,
  "metadata": {
    "colab": {
      "provenance": [],
      "authorship_tag": "ABX9TyNsTG+IGYWBdPyDh4HYam4I"
    },
    "kernelspec": {
      "name": "python3",
      "display_name": "Python 3"
    },
    "language_info": {
      "name": "python"
    }
  },
  "cells": [
    {
      "cell_type": "markdown",
      "source": [
        "Os exercícios abaixo estão divididos de acordo com uma determinada tabela do Banco de Dados.\n",
        "Você pode utilizar o INNER JOIN para resolver todas as questões."
      ],
      "metadata": {
        "id": "AluWoGYEzZ_M"
      }
    },
    {
      "cell_type": "markdown",
      "source": [
        "FACT SALES\n",
        "\n",
        "1. a) Faça um resumo da quantidade vendida (Sales Quantity) de acordo com o nome do canal\n",
        "de vendas (ChannelName). Você deve ordenar a tabela final de acordo com SalesQuantity,\n",
        "em ordem decrescente.\n",
        "\n",
        "b) Faça um agrupamento mostrando a quantidade total vendida (Sales Quantity) e\n",
        "quantidade total devolvida (Return Quantity) de acordo com o nome das lojas\n",
        "(StoreName).\n",
        "\n",
        "c) Faça um resumo do valor total vendido (Sales Amount) para cada mês\n",
        "(CalendarMonthLabel) e ano (CalendarYear)."
      ],
      "metadata": {
        "id": "GtEPeGRhAWtp"
      }
    },
    {
      "cell_type": "code",
      "execution_count": null,
      "metadata": {
        "id": "Mb_Dvv7czP2F"
      },
      "outputs": [],
      "source": [
        "a\n",
        "SELECT TOP(10) * FROM FactSales;\n",
        "SELECT * FROM DimChannel;\n",
        "\n",
        "-- As tabelas tem em comum a coluna channelKey.\n",
        "\n",
        "SELECT TOP(100)\n",
        "\tcha.ChannelName AS 'Nome do Canal',\n",
        "\tSUM(fac.SalesQuantity) AS 'Total Vendido'\n",
        "FROM FactSales fac\n",
        "INNER JOIN DimChannel cha\n",
        "\tON fac.channelKey = cha.ChannelKey\n",
        "GROUP BY cha.ChannelName\n",
        "ORDER BY SUM(fac.SalesQuantity) DESC;\n",
        "\n",
        "b\n",
        "SELECT TOP(10) * FROM FactSales;\n",
        "SELECT * FROM DimStore;\n",
        "\n",
        "SELECT TOP(100)\n",
        "\tsto.StoreName AS 'Nome da Loja',\n",
        "\tSUM(fac.SalesQuantity) AS 'Total Vendido',\n",
        "\tSUM(fac.ReturnQuantity) AS 'Quantidade Devolvida'\n",
        "FROM FactSales fac\n",
        "INNER JOIN DimStore sto\n",
        "\tON fac.StoreKey = sto.StoreKey\n",
        "GROUP BY sto.StoreName\n",
        "ORDER BY sto.StoreName;\n",
        "\n",
        "c\n",
        "SELECT TOP(10) * FROM FactSales;\n",
        "SELECT * FROM DimDate;\n",
        "\n",
        "SELECT TOP(100)\n",
        "\tdat.CalendarYear AS 'Ano',\n",
        "\tdat.CalendarMonthLabel AS 'Mês',\n",
        "\tSUM(fac.SalesAmount) AS 'Total Vendido'\n",
        "FROM FactSales fac\n",
        "INNER JOIN DimDate dat\n",
        "\tON fac.DateKey = dat.Datekey\n",
        "GROUP BY dat.CalendarYear, dat.CalendarMonthLabel, dat.CalendarMonth\n",
        "ORDER BY dat.CalendarMonth ASC;"
      ]
    },
    {
      "cell_type": "markdown",
      "source": [
        "2. Você precisa fazer uma análise de vendas por produtos. O objetivo final é descobrir o valor\n",
        "total vendido (SalesQuantity) por produto.\n",
        "\n",
        "a) Descubra qual é a cor de produto que mais é vendida (de acordo com SalesQuantity).\n",
        "\n",
        "b) Quantas cores tiveram uma quantidade vendida acima de 3.000.000."
      ],
      "metadata": {
        "id": "Or10J9HIAmco"
      }
    },
    {
      "cell_type": "code",
      "source": [
        "a\n",
        "SELECT TOP(10) * FROM FactSales;\n",
        "SELECT * FROM DimProduct;\n",
        "\n",
        "SELECT TOP(100)\n",
        "\tpro.ColorName AS 'Cor do Produto',\n",
        "\tSUM(fac.SalesQuantity) AS 'Total Vendido'\n",
        "FROM FactSales fac\n",
        "INNER JOIN DimProduct pro\n",
        "\tON fac.ProductKey = pro.ProductKey\n",
        "GROUP BY pro.ColorName\n",
        "ORDER BY SUM(fac.SalesQuantity) DESC;\n",
        "\n",
        "\n",
        "b\n",
        "SELECT\n",
        "\tpro.ColorName AS 'Cor do Produto',\n",
        "\tSUM(fac.SalesQuantity) AS 'Total Vendido'\n",
        "FROM FactSales fac\n",
        "INNER JOIN DimProduct pro\n",
        "\tON fac.ProductKey = pro.ProductKey\n",
        "GROUP BY pro.ColorName\n",
        "HAVING SUM(fac.SalesQuantity)>= 3000000\n",
        "ORDER BY SUM(fac.SalesQuantity) DESC;\n",
        "\n",
        "\n",
        "-- Usar o having pois a tabela já foi agrupada por cor."
      ],
      "metadata": {
        "id": "PBKnfXwLAp2v"
      },
      "execution_count": null,
      "outputs": []
    },
    {
      "cell_type": "markdown",
      "source": [
        "3. Crie um agrupamento de quantidade vendida (SalesQuantity) por categoria do produto\n",
        "(ProductCategoryName). Obs: Você precisará fazer mais de 1 INNER JOIN, dado que a relação\n",
        "entre FactSales e DimProductCategory não é direta."
      ],
      "metadata": {
        "id": "xvw5c8V8AvgA"
      }
    },
    {
      "cell_type": "code",
      "source": [
        "SELECT TOP(10) * FROM FactSales;\n",
        "SELECT * FROM DimProduct;\n",
        "SELECT * FROM DimProductSubcategory;\n",
        "SELECT * FROM DimProductCategory;\n",
        "\n",
        "SELECT\n",
        "\tcat.ProductCategoryName AS 'Nome da Categoria',\n",
        "\tSUM(fac.SalesQuantity) AS 'Total Vendido'\n",
        "FROM FactSales fac\n",
        "INNER JOIN DimProduct pro\n",
        "\tON fac.ProductKey = pro.ProductKey\n",
        "\t\tINNER JOIN DimProductSubcategory sub\n",
        "\t\t\tON pro.ProductSubcategoryKey = sub.ProductSubcategoryKey\n",
        "\t\t\t\tINNER JOIN DimProductCategory cat\n",
        "\t\t\t\t\tON sub.ProductCategoryKey = cat.ProductCategoryKey\n",
        "GROUP BY cat.ProductCategoryName;"
      ],
      "metadata": {
        "id": "DKLvZ-m8AyNY"
      },
      "execution_count": null,
      "outputs": []
    },
    {
      "cell_type": "markdown",
      "source": [
        "FACTONLINESALES\n",
        "\n",
        "4. a) Você deve fazer uma consulta à tabela FactOnlineSales e descobrir qual é o nome completo\n",
        "do cliente que mais realizou compras online (de acordo com a coluna SalesQuantity).\n",
        "\n",
        "b) Feito isso, faça um agrupamento de produtos e descubra quais foram os top 10 produtos mais\n",
        "comprados pelo cliente da letra a, considerando o nome do produto."
      ],
      "metadata": {
        "id": "9skFijIYA0-J"
      }
    },
    {
      "cell_type": "code",
      "source": [
        "a\n",
        "SELECT TOP(10) * FROM FactOnlineSales;\n",
        "SELECT * FROM DimCustomer;\n",
        "\n",
        "\n",
        "SELECT\n",
        "\tcus.\n",
        "\tcus.FirstName AS 'Nome',\n",
        "\tcus.LastName AS 'Sobrenome',\n",
        "\tSUM(fac.SalesQuantity) AS 'Total Vendido'\n",
        "FROM FactOnlineSales fac\n",
        "INNER JOIN DimCustomer cus\n",
        "\tON fac.CustomerKey = cus.CustomerKey\n",
        "WHERE cus.CustomerType = 'Person'\n",
        "GROUP BY cus.FirstName, cus.LastName\n",
        "ORDER BY SUM(fac.SalesQuantity) DESC;\n",
        "\n",
        "b\n",
        "SELECT TOP(10) * FROM FactOnlineSales;\n",
        "SELECT * FROM DimCustomer;\n",
        "SELECT * FROM DimProduct;\n",
        "\n",
        "\n",
        "SELECT\n",
        "\tTOP (10) pro.ProductName AS 'Nome do Produto',\n",
        "\tSUM(fac.SalesQuantity) AS 'Total Vendido'\n",
        "FROM FactOnlineSales fac\n",
        "INNER JOIN DimCustomer cus\n",
        "\tON fac.CustomerKey = cus.CustomerKey\n",
        "INNER JOIN DimProduct pro\n",
        "\tON fac.ProductKey = pro.ProductKey\n",
        "WHERE cus.CustomerKey = 7665\n",
        "GROUP BY pro.ProductName\n",
        "ORDER BY SUM(fac.SalesQuantity) DESC;"
      ],
      "metadata": {
        "id": "9QLjP7vNA41w"
      },
      "execution_count": null,
      "outputs": []
    },
    {
      "cell_type": "markdown",
      "source": [
        "5. Faça um resumo mostrando o total de produtos comprados (Sales Quantity) de acordo com o\n",
        "sexo dos clientes."
      ],
      "metadata": {
        "id": "thIVUy2XA-wQ"
      }
    },
    {
      "cell_type": "code",
      "source": [
        "SELECT\n",
        "\tcus.Gender AS 'Gênero',\n",
        "\tSUM(fac.SalesQuantity) AS 'Qtd Vendida'\n",
        "FROM FactOnlineSales fac\n",
        "INNER JOIN DimCustomer cus\n",
        "\tON fac.CustomerKey = cus.CustomerKey\n",
        "WHERE cus.Gender IS NOT NULL\n",
        "GROUP BY cus.Gender\n",
        "ORDER BY SUM(fac.SalesQuantity) DESC;\n"
      ],
      "metadata": {
        "id": "FX1cPtdABAOB"
      },
      "execution_count": null,
      "outputs": []
    },
    {
      "cell_type": "markdown",
      "source": [
        "FACTEXCHANGERATE\n",
        "\n",
        "6. Faça uma tabela resumo mostrando a taxa de câmbio média de acordo com cada\n",
        "CurrencyDescription. A tabela final deve conter apenas taxas entre 10 e 100."
      ],
      "metadata": {
        "id": "_ib5701kBCVB"
      }
    },
    {
      "cell_type": "code",
      "source": [
        "SELECT\n",
        "\tcur.CurrencyName AS 'Moeda',\n",
        "\tAVG(fact.AverageRate) AS 'Média'\n",
        "FROM FactExchangeRate fact\n",
        "INNER JOIN DimCurrency cur\n",
        "\tON fact.CurrencyKey = cur.CurrencyKey\n",
        "GROUP BY cur.CurrencyName\n",
        "HAVING AVG(fact.AverageRate) BETWEEN 10 AND 100;"
      ],
      "metadata": {
        "id": "zwR2LBssBELS"
      },
      "execution_count": null,
      "outputs": []
    },
    {
      "cell_type": "markdown",
      "source": [
        "FACTSTRATEGYPLAN\n",
        "\n",
        "7. Calcule a SOMA TOTAL de AMOUNT referente à tabela FactStrategyPlan destinado aos\n",
        "cenários: Actual e Budget.\n",
        "Dica: A tabela DimScenario será importante para esse exercício."
      ],
      "metadata": {
        "id": "UURvwO0SBGdi"
      }
    },
    {
      "cell_type": "code",
      "source": [
        " SELECT\n",
        "\tsce.ScenarioName AS 'Nome Cenário',\n",
        "\tSUM(fact.Amount) AS 'Total'\n",
        "FROM FactStrategyPlan fact\n",
        "INNER JOIN DimScenario sce\n",
        "\tON fact.StrategyPlanKey= sce.ScenarioKey\n",
        "WHERE sce.ScenarioName IN ('Actual', 'Budget')\n",
        "GROUP BY sce.ScenarioName;\n",
        "\n",
        "-- ou no lugar de where usar HAVING sce.ScenarioName <> 'Forecast' ou HAVING sce.ScenarioName IN ()"
      ],
      "metadata": {
        "id": "cIuCTI5DBIl4"
      },
      "execution_count": null,
      "outputs": []
    },
    {
      "cell_type": "markdown",
      "source": [
        "8. Faça uma tabela resumo mostrando o resultado do planejamento estratégico por ano."
      ],
      "metadata": {
        "id": "UxbvKr27BSC3"
      }
    },
    {
      "cell_type": "code",
      "source": [
        "SELECT\n",
        "\tdat.CalendarYear AS 'Ano',\n",
        "\tSUM(fact.Amount) AS 'Total Anual'\n",
        "FROM FactStrategyPlan fact\n",
        "INNER JOIN DimDate dat\n",
        "\tON fact.Datekey= dat.Datekey\n",
        "GROUP BY dat.CalendarYear;"
      ],
      "metadata": {
        "id": "ffvQgeDFBSnL"
      },
      "execution_count": null,
      "outputs": []
    },
    {
      "cell_type": "markdown",
      "source": [
        "DIMPRODUCT/DIMPRODUCTSUBCATEGORY\n",
        "\n",
        "9. Faça um agrupamento de quantidade de produtos por ProductSubcategoryName. Leve em\n",
        "consideração em sua análise apenas a marca Contoso e a cor Silver."
      ],
      "metadata": {
        "id": "xhkWWncdBMyD"
      }
    },
    {
      "cell_type": "code",
      "source": [
        "SELECT\n",
        "\tsub.ProductSubcategoryName AS 'Nome Subcategoria',\n",
        "\tCOUNT(*) AS 'Quantidade'\n",
        "FROM DimProduct pro\n",
        "INNER JOIN DimProductSubcategory sub\n",
        "\tON pro.ProductSubcategoryKey= sub.ProductSubcategoryKey\n",
        "WHERE pro.BrandName = 'Contoso' AND pro.ColorName = 'Silver'\n",
        "GROUP BY sub.ProductSubcategoryName;\n"
      ],
      "metadata": {
        "id": "40jTxDAoBPBh"
      },
      "execution_count": null,
      "outputs": []
    },
    {
      "cell_type": "markdown",
      "source": [
        "10. Faça um agrupamento duplo de quantidade de produtos por BrandName e\n",
        "ProductSubcategoryName. A tabela final deverá ser ordenada de acordo com a coluna\n",
        "BrandName."
      ],
      "metadata": {
        "id": "L3homlKmBWeZ"
      }
    },
    {
      "cell_type": "code",
      "source": [
        "SELECT\n",
        "\tpro.BrandName AS 'Marca',\n",
        "\tsub.ProductSubcategoryName AS 'Nome Subcategoria',\n",
        "\tCOUNT(*) AS 'Quantidade'\n",
        "FROM DimProduct pro\n",
        "INNER JOIN DimProductSubcategory sub\n",
        "\tON pro.ProductSubcategoryKey= sub.ProductSubcategoryKey\n",
        "GROUP BY sub.ProductSubcategoryName, pro.BrandName\n",
        "ORDER BY pro.BrandName ASC;"
      ],
      "metadata": {
        "id": "cVD57zYqBYUU"
      },
      "execution_count": null,
      "outputs": []
    }
  ]
}