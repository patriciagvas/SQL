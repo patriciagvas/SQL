{
  "nbformat": 4,
  "nbformat_minor": 0,
  "metadata": {
    "colab": {
      "provenance": [],
      "authorship_tag": "ABX9TyOVY0p/zeWmTbJrsjmLxXs/"
    },
    "kernelspec": {
      "name": "python3",
      "display_name": "Python 3"
    },
    "language_info": {
      "name": "python"
    }
  },
  "cells": [
    {
      "cell_type": "markdown",
      "source": [
        "Os Joins têm como principal objetivo deixar as tabelas mais informativas, permitindo buscar\n",
        "dados de uma tabela para outra, de acordo com uma coluna em comum que permita essa\n",
        "relação.\n",
        "Dito isso, faça os seguintes exercícios:"
      ],
      "metadata": {
        "id": "uVMMXjYHw82L"
      }
    },
    {
      "cell_type": "markdown",
      "source": [
        "1. Utilize o INNER JOIN para trazer os nomes das subcategorias dos produtos, da tabela\n",
        "DimProductSubcategory para a tabela DimProduct."
      ],
      "metadata": {
        "id": "NS7LRA-fxHTh"
      }
    },
    {
      "cell_type": "code",
      "execution_count": null,
      "metadata": {
        "id": "XhqMorqSw0Ql"
      },
      "outputs": [],
      "source": [
        "SELECT * FROM DimProduct;\n",
        "SELECT * FROM DimProductSubcategory;\n",
        "\n",
        "SELECT\n",
        "\tdim.ProductKey AS 'ID Produto';\n",
        "\tdim.ProductName AS 'Nome Produto',\n",
        "\tsub.ProductSubcategoryName AS 'Nome Subcategoria'\n",
        "FROM DimProduct dim\n",
        "INNER JOIN  DimProductSubcategory sub\n",
        "\tON dim.ProductSubcategoryKey = sub.ProductSubcategoryKey\n",
        "ORDER BY dim.ProductName ASC;\n"
      ]
    },
    {
      "cell_type": "markdown",
      "source": [
        "2. Identifique uma coluna em comum entre as tabelas DimProductSubcategory e\n",
        "DimProductCategory. Utilize essa coluna para complementar informações na tabela\n",
        "DimProductSubcategory a partir da DimProductCategory. Utilize o LEFT JOIN."
      ],
      "metadata": {
        "id": "0XXhCG2ExS6x"
      }
    },
    {
      "cell_type": "code",
      "source": [
        "SELECT * FROM DimProductCategory;\n",
        "SELECT * FROM DimProductSubcategory;\n",
        "\n",
        "-- Tem em comum a coluna ProductCategoryKey\n",
        "\n",
        "SELECT\n",
        "\tsub.ProductSubcategoryKey AS 'ID_Subcategoria',\n",
        "\tsub.ProductSubcategoryName AS 'Nome Subcategoria',\n",
        "\tsub.ProductSubcategoryDescription AS 'Descrição Subcategoria',\n",
        "\tcat.ProductCategoryKey AS 'ID_Categoria',\n",
        "\tcat.ProductCategoryName AS 'Nome Categoria',\n",
        "\tcat.ProductCategoryDescription AS 'Descrição Categoria'\n",
        "FROM DimProductSubcategory sub\n",
        "LEFT JOIN DimProductCategory cat\n",
        "\tON sub.ProductCategoryKey = cat.ProductCategoryKey;\n"
      ],
      "metadata": {
        "id": "_z4SA3vExWKB"
      },
      "execution_count": null,
      "outputs": []
    },
    {
      "cell_type": "markdown",
      "source": [
        "3. Para cada loja da tabela DimStore, descubra qual o Continente e o Nome do País associados\n",
        "(de acordo com DimGeography). Seu SELECT final deve conter apenas as seguintes colunas:\n",
        "StoreKey, StoreName, EmployeeCount, ContinentName e RegionCountryName. Utilize o LEFT\n",
        "JOIN neste exercício."
      ],
      "metadata": {
        "id": "xzah_BlIxdJj"
      }
    },
    {
      "cell_type": "code",
      "source": [
        "SELECT * FROM DimStore;\n",
        "SELECT * FROM DimGeography;\n",
        "\n",
        "As duas tabelas se relacionam pela coluna GeographyKey.\n",
        "\n",
        "SELECT\n",
        "\tsto.StoreKey AS 'ID_Loja',\n",
        "\tsto.StoreName AS 'Nome Loja',\n",
        "\tsto.EmployeeCount AS 'Número de funcionários',\n",
        "\tgeo.ContinentName AS 'Continente',\n",
        "\tgeo.RegionCountryName AS 'País'\n",
        "FROM DimStore sto\n",
        "LEFT JOIN DimGeography geo\n",
        "\tON sto.GeographyKey = geo.GeographyKey;"
      ],
      "metadata": {
        "id": "sYvmkPtXxfoA"
      },
      "execution_count": null,
      "outputs": []
    },
    {
      "cell_type": "markdown",
      "source": [
        "4. Complementa a tabela DimProduct com a informação de ProductCategoryDescription. Utilize\n",
        "o LEFT JOIN e retorne em seu SELECT apenas as 5 colunas que considerar mais relevantes."
      ],
      "metadata": {
        "id": "lG5PN7rXxkgJ"
      }
    },
    {
      "cell_type": "code",
      "source": [
        "-- As duas tabelas DimProduct e DimProductSubcategory se relacionam pela coluna ProductSubcategoryKey. Já as tabelas DimProductCategory e DimProductSubCategory se relaiconam pela coluna ProductCategoryKey.\n",
        "\n",
        "SELECT * FROM DimProduct;\n",
        "SELECT * FROM DimProductCategory;\n",
        "SELECT * FROM DimProductSubcategory;\n",
        "\n",
        "SELECT\n",
        "\tpro.ProductKey AS 'ID_Produto',\n",
        "\tpro.ProductName AS 'Nome do Produto',\n",
        "\tpro.ProductDescription AS 'Descrição do Produto',\n",
        "\tpro.BrandName AS 'Marca',\n",
        "\tcat.ProductCategoryName AS 'Nome Categoria'\n",
        "FROM DimProduct pro\n",
        "LEFT JOIN DimProductSubcategory sub\n",
        "\tON pro.ProductSubcategoryKey = sub.ProductSubcategoryKey\n",
        "\t\tLEFT JOIN DimProductCategory cat\n",
        "\t\t\tON sub.ProductCategoryKey = cat.ProductCategoryKey;\n"
      ],
      "metadata": {
        "id": "NZ4ynpNWxm5J"
      },
      "execution_count": null,
      "outputs": []
    },
    {
      "cell_type": "markdown",
      "source": [
        "5. A tabela FactStrategyPlan resume o planejamento estratégico da empresa. Cada linha\n",
        "representa um montante destinado a uma determinada AccountKey.\n",
        "\n",
        "a) Faça um SELECT das 100 primeiras linhas de FactStrategyPlan para reconhecer a tabela.\n",
        "\n",
        "b) Faça um INNER JOIN para criar uma tabela contendo o AccountName para cada\n",
        "AccountKey da tabela FactStrategyPlan. O seu SELECT final deve conter as colunas:\n",
        "\n",
        "• StrategyPlanKey\n",
        "\n",
        "\n",
        "\n",
        "\n",
        "• DateKey\n",
        "\n",
        "• AccountName\n",
        "\n",
        "• Amount"
      ],
      "metadata": {
        "id": "k4Q3Aq-cxwyq"
      }
    },
    {
      "cell_type": "code",
      "source": [
        "-- a\n",
        "SELECT TOP(100) * FROM FactStrategyPlan;\n",
        "\n",
        "-- b\n",
        "-- A tabela FactStrategyPlan se relaciona com a tabela DimAccount pela coluna AccountKey.\n",
        "\n",
        "SELECT TOP(100) * FROM FactStrategyPlan;\n",
        "SELECT * FROM DimAccount;\n",
        "\n",
        "SELECT\n",
        "\tstra.StrategyPlanKey AS 'ID_Estratégia',\n",
        "\tstra.Datekey AS 'Data',\n",
        "\tacc.AccountName AS 'Nome da Conta',\n",
        "\tstra.Amount AS 'Total'\n",
        "FROM\n",
        "\tFactStrategyPlan stra\n",
        "INNER JOIN DimAccount acc\n",
        "\tON stra.AccountKey = acc.AccountKey;\n"
      ],
      "metadata": {
        "id": "EKRynVK2xznJ"
      },
      "execution_count": null,
      "outputs": []
    },
    {
      "cell_type": "markdown",
      "source": [
        "6. Vamos continuar analisando a tabela FactStrategyPlan. Além da coluna AccountKey que\n",
        "identifica o tipo de conta, há também uma outra coluna chamada ScenarioKey. Essa coluna\n",
        "possui a numeração que identifica o tipo de cenário: Real, Orçado e Previsão.\n",
        "\n",
        "Faça um INNER JOIN para criar uma tabela contendo o ScenarioName para cada ScenarioKey\n",
        "da tabela FactStrategyPlan. O seu SELECT final deve conter as colunas:\n",
        "\n",
        "• StrategyPlanKey\n",
        "\n",
        "• DateKey\n",
        "\n",
        "• ScenarioName\n",
        "\n",
        "• Amount"
      ],
      "metadata": {
        "id": "WLtSMXTbyKEa"
      }
    },
    {
      "cell_type": "code",
      "source": [
        "SELECT TOP(100) * FROM FactStrategyPlan;\n",
        "SELECT * FROM DimScenario;\n",
        "\n",
        "SELECT\n",
        "\tstra.StrategyPlanKey AS 'ID_Estratégia',\n",
        "\tstra.Datekey AS 'Data',\n",
        "\tsce.ScenarioName AS 'Nome do Cenário',\n",
        "\tstra.Amount AS 'Total'\n",
        "FROM FactStrategyPlan stra\n",
        "INNER JOIN DimScenario sce\n",
        "\tON stra.ScenarioKey = sce.ScenarioKey;"
      ],
      "metadata": {
        "id": "iyBobXXfyTJR"
      },
      "execution_count": null,
      "outputs": []
    },
    {
      "cell_type": "markdown",
      "source": [
        "7. Algumas subcategorias não possuem nenhum exemplar de produto. Identifique que\n",
        "subcategorias são essas."
      ],
      "metadata": {
        "id": "keNMCMN_yXip"
      }
    },
    {
      "cell_type": "code",
      "source": [
        "SELECT\n",
        "\tpro.ProductKey AS 'ID_Produto',\n",
        "\tpro.ProductName AS 'Nome Produto',\n",
        "\tsub.ProductSubcategoryName AS 'Nome Subcategoria'\n",
        "FROM DimProduct pro\n",
        "RIGHT JOIN DimProductSubcategory sub\n",
        "\tON pro.ProductSubcategoryKey = sub.ProductSubcategoryKey\n",
        "WHERE pro.ProductName IS NULL; -- Irá retornar os nomes da subcategoria cujo nome do produto é null"
      ],
      "metadata": {
        "id": "mj8uDmdkyZnJ"
      },
      "execution_count": null,
      "outputs": []
    },
    {
      "cell_type": "markdown",
      "source": [
        "8. A tabela abaixo mostra a combinação entre Marca e Canal de Venda, para as marcas Contoso,\n",
        "Fabrikam e Litware. Crie um código SQL para chegar no mesmo resultado."
      ],
      "metadata": {
        "id": "5H1n_Cf3yb4I"
      }
    },
    {
      "cell_type": "code",
      "source": [
        "SELECT\n",
        "\tDISTINCT BrandName AS 'Marca',\n",
        "\tChannelName AS 'Nome Canal'\n",
        "FROM\n",
        "\tDimProduct  CROSS JOIN DimChannel\n",
        "WHERE BrandName IN ('Contoso', 'Fabrikam', 'Litware' );"
      ],
      "metadata": {
        "id": "C9Mea0xoyfqq"
      },
      "execution_count": null,
      "outputs": []
    },
    {
      "cell_type": "markdown",
      "source": [
        "9. Neste exercício, você deverá relacionar as tabelas FactOnlineSales com DimPromotion.\n",
        "Identifique a coluna que as duas tabelas têm em comum e utilize-a para criar esse\n",
        "relacionamento.\n",
        "Retorne uma tabela contendo as seguintes colunas:\n",
        "\n",
        "• OnlineSalesKey\n",
        "\n",
        "• DateKey\n",
        "\n",
        "• PromotionName\n",
        "\n",
        "• SalesAmount\n",
        "\n",
        "A sua consulta deve considerar apenas as linhas de vendas referentes a produtos com\n",
        "desconto (PromotionName <> ‘No Discount’). Além disso, você deverá ordenar essa tabela de\n",
        "acordo com a coluna DateKey, em ordem crescente."
      ],
      "metadata": {
        "id": "XmW3HPaEyhqi"
      }
    },
    {
      "cell_type": "code",
      "source": [
        "\n",
        "SELECT TOP (10) * FROM FactOnlineSales;\n",
        "SELECT * FROM DimPromotion;\n",
        "\n",
        "As tabelas se relacionam pela coluna PromotionKey.\n",
        "\n",
        "SELECT TOP (10) * FROM FactOnlineSales;\n",
        "Select * FROM DimPromotion;\n",
        "\n",
        "SELECT TOP(100)\n",
        "\tsal.OnlineSalesKey AS 'ID_Venda',\n",
        "\tsal.DateKey AS 'Data Venda',\n",
        "\tpromo.PromotionName AS 'Nome da Promoção',\n",
        "\tsal.SalesAmount AS 'Total de Vendas'\n",
        "FROM FactOnlineSales sal\n",
        "INNER JOIN DimPromotion promo\n",
        "\tON sal.PromotionKey = promo.PromotionKey\n",
        "WHERE promo.PromotionName <> 'No Discount'\n",
        "ORDER BY sal.DateKey ASC;"
      ],
      "metadata": {
        "id": "V2cYypPjyn6l"
      },
      "execution_count": null,
      "outputs": []
    },
    {
      "cell_type": "markdown",
      "source": [
        "10. A tabela abaixo é resultado de um Join entre a tabela FactSales e as tabelas: DimChannel,\n",
        "DimStore e DimProduct.\n",
        "Recrie esta consulta e classifique em ordem decrescente de acordo com SalesAmount."
      ],
      "metadata": {
        "id": "ExMoLkrlyvaJ"
      }
    },
    {
      "cell_type": "code",
      "source": [
        "-- FactSales se relaciona com DimProduct pela coluna ProductKey.\n",
        "-- FactSales se relaciona com DimStore pela coluna StoreKey.\n",
        "-- FactSales se relaciona com DimChannel pela coluna channelKey\n",
        "\n",
        "SELECT TOP (10) * FROM FactSales;\n",
        "SELECT * FROM DimChannel;\n",
        "SELECT * FROM DimStore;\n",
        "SELECT * FROM DimProduct;\n",
        "\n",
        "SELECT TOP(10)\n",
        "\tsal.SalesKey AS 'ID_Venda',\n",
        "\tcha.ChannelName AS 'Nome do Canal',\n",
        "\tsto.StoreName AS 'Nome da Loja',\n",
        "\tpro.ProductName AS 'Nome do Produto',\n",
        "\tsal.SalesAmount AS 'Total Vendas'\n",
        "FROM FactSales sal\n",
        "INNER JOIN DimChannel cha\n",
        "\tON sal.channelKey = cha.ChannelKey\n",
        "INNER JOIN DimStore sto\n",
        "\tON sal.StoreKey = sto.StoreKey\n",
        "INNER JOIN DimProduct pro\n",
        "\tON sal.ProductKey = pro.ProductKey\n",
        "ORDER BY sal.SalesAmount DESC;\n"
      ],
      "metadata": {
        "id": "uieqh3xmyvCQ"
      },
      "execution_count": null,
      "outputs": []
    }
  ]
}